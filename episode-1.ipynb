{
 "cells": [
  {
   "cell_type": "markdown",
   "id": "daf2803c",
   "metadata": {},
   "source": [
    "# python basics"
   ]
  },
  {
   "cell_type": "raw",
   "id": "b862fc45",
   "metadata": {},
   "source": [
    "where can we use python??\n",
    "\n",
    "--> system programming\n",
    "--> gui development\n",
    "--> game development\n",
    "--> web scrapping\n",
    "--> scientific programming\n",
    "--> robotics\n",
    "--> db connectivity\n",
    "--> image processing"
   ]
  },
  {
   "cell_type": "code",
   "execution_count": 1,
   "id": "21774ade",
   "metadata": {},
   "outputs": [
    {
     "name": "stdout",
     "output_type": "stream",
     "text": [
      "The Zen of Python, by Tim Peters\n",
      "\n",
      "Beautiful is better than ugly.\n",
      "Explicit is better than implicit.\n",
      "Simple is better than complex.\n",
      "Complex is better than complicated.\n",
      "Flat is better than nested.\n",
      "Sparse is better than dense.\n",
      "Readability counts.\n",
      "Special cases aren't special enough to break the rules.\n",
      "Although practicality beats purity.\n",
      "Errors should never pass silently.\n",
      "Unless explicitly silenced.\n",
      "In the face of ambiguity, refuse the temptation to guess.\n",
      "There should be one-- and preferably only one --obvious way to do it.\n",
      "Although that way may not be obvious at first unless you're Dutch.\n",
      "Now is better than never.\n",
      "Although never is often better than *right* now.\n",
      "If the implementation is hard to explain, it's a bad idea.\n",
      "If the implementation is easy to explain, it may be a good idea.\n",
      "Namespaces are one honking great idea -- let's do more of those!\n"
     ]
    }
   ],
   "source": [
    "import this  ## tagline"
   ]
  },
  {
   "cell_type": "code",
   "execution_count": 3,
   "id": "f17140e4",
   "metadata": {},
   "outputs": [
    {
     "data": {
      "text/plain": [
       "'C:\\\\Users\\\\saich\\\\Untitled Folder 1'"
      ]
     },
     "execution_count": 3,
     "metadata": {},
     "output_type": "execute_result"
    }
   ],
   "source": [
    " pwd"
   ]
  },
  {
   "cell_type": "code",
   "execution_count": 4,
   "id": "4ed0c4fa",
   "metadata": {},
   "outputs": [
    {
     "name": "stdout",
     "output_type": "stream",
     "text": [
      "hey\n"
     ]
    }
   ],
   "source": [
    "print('hey')\n",
    "## if we wanna know about function description -> go inside the function and press shift+tab"
   ]
  },
  {
   "cell_type": "code",
   "execution_count": 5,
   "id": "214a9866",
   "metadata": {},
   "outputs": [],
   "source": [
    "## variable holds the data-set or excel sheet or movie file on the ram for processing"
   ]
  },
  {
   "cell_type": "code",
   "execution_count": 10,
   "id": "51e69211",
   "metadata": {},
   "outputs": [
    {
     "data": {
      "text/plain": [
       "float"
      ]
     },
     "execution_count": 10,
     "metadata": {},
     "output_type": "execute_result"
    }
   ],
   "source": [
    "a=20\n",
    "b='chay'\n",
    "c=6.8\n",
    "type(c)"
   ]
  },
  {
   "cell_type": "code",
   "execution_count": 7,
   "id": "8f492fec",
   "metadata": {},
   "outputs": [
    {
     "data": {
      "text/plain": [
       "20"
      ]
     },
     "execution_count": 7,
     "metadata": {},
     "output_type": "execute_result"
    }
   ],
   "source": [
    "a"
   ]
  },
  {
   "cell_type": "code",
   "execution_count": 22,
   "id": "0687b87f",
   "metadata": {},
   "outputs": [],
   "source": [
    "d=1+2j"
   ]
  },
  {
   "cell_type": "code",
   "execution_count": 12,
   "id": "8496d0fd",
   "metadata": {},
   "outputs": [
    {
     "data": {
      "text/plain": [
       "complex"
      ]
     },
     "execution_count": 12,
     "metadata": {},
     "output_type": "execute_result"
    }
   ],
   "source": [
    "type(d)"
   ]
  },
  {
   "cell_type": "code",
   "execution_count": 16,
   "id": "0ae11af8",
   "metadata": {},
   "outputs": [
    {
     "data": {
      "text/plain": [
       "(1.0, 2.0)"
      ]
     },
     "execution_count": 16,
     "metadata": {},
     "output_type": "execute_result"
    }
   ],
   "source": [
    "d.real,d.imag"
   ]
  },
  {
   "cell_type": "code",
   "execution_count": 23,
   "id": "7d2f594a",
   "metadata": {},
   "outputs": [
    {
     "data": {
      "text/plain": [
       "<function complex.conjugate()>"
      ]
     },
     "execution_count": 23,
     "metadata": {},
     "output_type": "execute_result"
    }
   ],
   "source": [
    "d. ## if we wanna see the attributes and methods of the class --> press dot followed by tab"
   ]
  },
  {
   "cell_type": "code",
   "execution_count": 34,
   "id": "ca209e6c",
   "metadata": {},
   "outputs": [
    {
     "data": {
      "text/plain": [
       "(1-2j)"
      ]
     },
     "execution_count": 34,
     "metadata": {},
     "output_type": "execute_result"
    }
   ],
   "source": [
    "d.conjugate()\n"
   ]
  },
  {
   "cell_type": "code",
   "execution_count": 17,
   "id": "2358cc81",
   "metadata": {},
   "outputs": [],
   "source": [
    "a,b,c=1,2,3  ## packing and unpacking of tuple"
   ]
  },
  {
   "cell_type": "code",
   "execution_count": 18,
   "id": "7959a6d3",
   "metadata": {},
   "outputs": [
    {
     "data": {
      "text/plain": [
       "1"
      ]
     },
     "execution_count": 18,
     "metadata": {},
     "output_type": "execute_result"
    }
   ],
   "source": [
    "a"
   ]
  },
  {
   "cell_type": "code",
   "execution_count": 19,
   "id": "740761d7",
   "metadata": {},
   "outputs": [
    {
     "data": {
      "text/plain": [
       "(2, 3)"
      ]
     },
     "execution_count": 19,
     "metadata": {},
     "output_type": "execute_result"
    }
   ],
   "source": [
    "b,c "
   ]
  },
  {
   "cell_type": "code",
   "execution_count": 29,
   "id": "4ae12d9e",
   "metadata": {},
   "outputs": [
    {
     "ename": "TypeError",
     "evalue": "unsupported operand type(s) for +: 'int' and 'str'",
     "output_type": "error",
     "traceback": [
      "\u001b[1;31m---------------------------------------------------------------------------\u001b[0m",
      "\u001b[1;31mTypeError\u001b[0m                                 Traceback (most recent call last)",
      "Cell \u001b[1;32mIn[29], line 2\u001b[0m\n\u001b[0;32m      1\u001b[0m a,b\u001b[38;5;241m=\u001b[39m\u001b[38;5;241m1\u001b[39m,\u001b[38;5;124m'\u001b[39m\u001b[38;5;124mchay\u001b[39m\u001b[38;5;124m'\u001b[39m\n\u001b[1;32m----> 2\u001b[0m a\u001b[38;5;241m+\u001b[39mb\n",
      "\u001b[1;31mTypeError\u001b[0m: unsupported operand type(s) for +: 'int' and 'str'"
     ]
    }
   ],
   "source": [
    "a,b=1,'chay'\n",
    "a+b\n"
   ]
  },
  {
   "cell_type": "code",
   "execution_count": 30,
   "id": "e5631993",
   "metadata": {},
   "outputs": [
    {
     "data": {
      "text/plain": [
       "'1chay'"
      ]
     },
     "execution_count": 30,
     "metadata": {},
     "output_type": "execute_result"
    }
   ],
   "source": [
    "str(a)+b ## typecasting explicitly"
   ]
  },
  {
   "cell_type": "code",
   "execution_count": 31,
   "id": "3e3675cc",
   "metadata": {},
   "outputs": [
    {
     "name": "stdout",
     "output_type": "stream",
     "text": [
      "ertiuo\n"
     ]
    },
    {
     "data": {
      "text/plain": [
       "'ertiuo'"
      ]
     },
     "execution_count": 31,
     "metadata": {},
     "output_type": "execute_result"
    }
   ],
   "source": [
    "input()"
   ]
  },
  {
   "cell_type": "code",
   "execution_count": 32,
   "id": "70780c69",
   "metadata": {},
   "outputs": [
    {
     "name": "stdout",
     "output_type": "stream",
     "text": [
      "rdtgyuhijokl\n"
     ]
    },
    {
     "data": {
      "text/plain": [
       "str"
      ]
     },
     "execution_count": 32,
     "metadata": {},
     "output_type": "execute_result"
    }
   ],
   "source": [
    "type(input())"
   ]
  },
  {
   "cell_type": "code",
   "execution_count": null,
   "id": "cc29b883",
   "metadata": {},
   "outputs": [],
   "source": []
  }
 ],
 "metadata": {
  "kernelspec": {
   "display_name": "Python 3 (ipykernel)",
   "language": "python",
   "name": "python3"
  },
  "language_info": {
   "codemirror_mode": {
    "name": "ipython",
    "version": 3
   },
   "file_extension": ".py",
   "mimetype": "text/x-python",
   "name": "python",
   "nbconvert_exporter": "python",
   "pygments_lexer": "ipython3",
   "version": "3.11.5"
  }
 },
 "nbformat": 4,
 "nbformat_minor": 5
}
